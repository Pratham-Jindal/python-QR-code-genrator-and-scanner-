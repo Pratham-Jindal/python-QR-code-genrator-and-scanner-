{
 "cells": [
  {
   "cell_type": "code",
   "execution_count": null,
   "id": "c9b6c7eb",
   "metadata": {},
   "outputs": [],
   "source": [
    "\"In this project we create QR code of students rollnumber who have paid the party fees by checking thier info from the excel sheet and then send them mail automatically. The scanner scans the code and checks whether the student is valid and not repeated \""
   ]
  },
  {
   "cell_type": "code",
   "execution_count": null,
   "id": "9c8e32fc",
   "metadata": {},
   "outputs": [],
   "source": [
    "import qrcode as qr"
   ]
  },
  {
   "cell_type": "code",
   "execution_count": null,
   "id": "1b48fbeb",
   "metadata": {},
   "outputs": [],
   "source": [
    "features = qr.QRCode(version=1,box_size=40,border=5)\n",
    "features.add_data(\"20104070\")\n",
    "features.make(fit=True)\n",
    "qrcodegen = features.make_image(fill_color=\"black\",back_color=\"white\")\n",
    "qrcodegen.save(\"image2.png\")"
   ]
  },
  {
   "cell_type": "code",
   "execution_count": null,
   "id": "9297dee0",
   "metadata": {},
   "outputs": [],
   "source": [
    "pip install smtplib"
   ]
  },
  {
   "cell_type": "code",
   "execution_count": null,
   "id": "55694530",
   "metadata": {},
   "outputs": [],
   "source": [
    "import smtplib\n",
    "import os "
   ]
  },
  {
   "cell_type": "code",
   "execution_count": null,
   "id": "9edde14f",
   "metadata": {},
   "outputs": [],
   "source": [
    "EMAIL_ADD = \"prathamjindal83@gmail.com\"\n",
    "EMAIL_PASSWORD = \"qbnjzuumtpeaoysj\"\n",
    "\n",
    "with smtplib.SMTP('smtp.gmail.com',587) as smtp:\n",
    "    smtp.ehlo()\n",
    "    smtp.starttls()\n",
    "    smtp.ehlo()\n",
    "    \n",
    "    smtp.login(EMAIL_ADD,EMAIL_PASSWORD)\n",
    "    \n",
    "    subject = \"grab dinner this weekend\"\n",
    "    body = \"how about dinner with me\"\n",
    "    \n",
    "    msg = f'subject : {subject}\\n\\n{body}'\n",
    "    \n",
    "    \n",
    "# server = smtplib.SMTP('localhost')\n",
    "# server.set_debuglevel(1)\n",
    "    smtp.sendmail(EMAIL_ADD,'prathamjindal83@gmail.com', msg)\n",
    "# server.quit()"
   ]
  },
  {
   "cell_type": "code",
   "execution_count": null,
   "id": "e27ba272",
   "metadata": {},
   "outputs": [],
   "source": [
    "# setting os env to hide personal and sensitive information from everyone\n",
    "# import os\n",
    "\n"
   ]
  },
  {
   "cell_type": "code",
   "execution_count": null,
   "id": "da598908",
   "metadata": {},
   "outputs": [],
   "source": [
    "# comapct automated email sending code\n",
    "import smtplib\n",
    "from email.message import EmailMessage\n",
    "import imghdr\n",
    "\n",
    "EMAIL_ADD = os.environ.get(\"EMAIL_ADD\")\n",
    "EMAIL_PASSWORD = os.environ.get(\"EMAIL_PASS\")\n",
    "\n",
    "msg = EmailMessage()\n",
    "msg['Subject'] = \"save the qr code\"\n",
    "msg['From'] = EMAIL_ADD\n",
    "msg['To'] = \"prathamjindal83@gmail.com\"\n",
    "msg.set_content('Image attached >>> ')\n",
    "\n",
    "with open('image2.png','rb') as f:\n",
    "    file_data = f.read()\n",
    "    file_type = imghdr.what(f.name)\n",
    "    file_name = f.name\n",
    "    \n",
    "msg.add_attachment(file_data,maintype='image',subtype=file_type,filename=file_name)\n",
    "with smtplib.SMTP_SSL('smtp.gmail.com:465') as smtp:\n",
    "    \n",
    "    smtp.login(EMAIL_ADD,EMAIL_PASSWORD)\n",
    "    \n",
    "    smtp.send_message(msg)\n",
    "# server.quit()"
   ]
  },
  {
   "cell_type": "code",
   "execution_count": null,
   "id": "b0d61233",
   "metadata": {},
   "outputs": [],
   "source": [
    "file_type"
   ]
  },
  {
   "cell_type": "code",
   "execution_count": null,
   "id": "a558c928",
   "metadata": {},
   "outputs": [],
   "source": [
    "# to send email to multiple user create a list and pass the list in msg['To'] "
   ]
  },
  {
   "cell_type": "code",
   "execution_count": null,
   "id": "6bdd4cf4",
   "metadata": {},
   "outputs": [],
   "source": [
    "#qr scanner\n"
   ]
  },
  {
   "cell_type": "code",
   "execution_count": null,
   "id": "ae8b4a85",
   "metadata": {},
   "outputs": [],
   "source": [
    "import cv2  # read images/ camera /video\n",
    "\n",
    "import time"
   ]
  },
  {
   "cell_type": "code",
   "execution_count": null,
   "id": "016f1257",
   "metadata": {},
   "outputs": [],
   "source": [
    "pip install opencv-python"
   ]
  },
  {
   "cell_type": "code",
   "execution_count": null,
   "id": "81eb9de4",
   "metadata": {},
   "outputs": [],
   "source": [
    "pip install pyzbar"
   ]
  },
  {
   "cell_type": "code",
   "execution_count": null,
   "id": "f1d25148",
   "metadata": {},
   "outputs": [],
   "source": [
    "cap = cv2.VideoCapture(0)\n",
    "cap.set(3,640) #3 - width\n",
    "cap.set(4,480) #4 - height\n",
    "camera = True\n",
    "while camera == True:\n",
    "    success, frame = cap.read()\n",
    "    for code in decode(frame):\n",
    "        print(code.data.decode('utf-8'))\n",
    "    \n",
    "    cv2.imshow('testinng code scan', frame)\n",
    "    cv2.waitKey(1)"
   ]
  },
  {
   "cell_type": "code",
   "execution_count": null,
   "id": "185086be",
   "metadata": {},
   "outputs": [],
   "source": [
    "import cv2\n",
    "\n",
    "\n",
    "import numpy as np\n",
    "\n",
    "img = cv2.imread(r'/Users/prathamjindal/PycharmProjects/pythonProject1/image1.png')\n",
    "detector = cv2.QRCodeDetector()\n",
    "val,b,c = detector.detectAndDecode(img)\n",
    "print(val)"
   ]
  },
  {
   "cell_type": "code",
   "execution_count": null,
   "id": "004f1f3d",
   "metadata": {},
   "outputs": [],
   "source": []
  }
 ],
 "metadata": {
  "kernelspec": {
   "display_name": "Python 3 (ipykernel)",
   "language": "python",
   "name": "python3"
  },
  "language_info": {
   "codemirror_mode": {
    "name": "ipython",
    "version": 3
   },
   "file_extension": ".py",
   "mimetype": "text/x-python",
   "name": "python",
   "nbconvert_exporter": "python",
   "pygments_lexer": "ipython3",
   "version": "3.10.4"
  }
 },
 "nbformat": 4,
 "nbformat_minor": 5
}
