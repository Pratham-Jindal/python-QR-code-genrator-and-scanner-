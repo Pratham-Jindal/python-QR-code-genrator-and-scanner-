{
 "cells": [
  {
   "cell_type": "code",
   "execution_count": null,
   "id": "c9b6c7eb",
   "metadata": {},
   "outputs": [],
   "source": [
    "\"In this project we create QR code of students rollnumber who have paid the party fees by checking thier info from the excel sheet and then send them mail automatically. The scanner scans the code and checks whether the student is valid and not repeated \""
   ]
  },
  {
   "cell_type": "code",
   "execution_count": null,
   "id": "9c8e32fc",
   "metadata": {},
   "outputs": [],
   "source": [
    "import qrcode as qr\n",
    "import csv"
   ]
  },
  {
   "cell_type": "code",
   "execution_count": null,
   "id": "1b48fbeb",
   "metadata": {},
   "outputs": [],
   "source": [
    "def genqr(rollno):\n",
    "    features = qr.QRCode(version=1,box_size=40,border=5)\n",
    "    features.add_data(rollno)\n",
    "    features.make(fit=True)\n",
    "    qrcodegen = features.make_image(fill_color=\"black\",back_color=\"white\")\n",
    "    qrcodegen.save(f\"image{rollno}.png\")\n",
    "    \n",
    "    "
   ]
  },
  {
   "cell_type": "code",
   "execution_count": null,
   "id": "d900778c",
   "metadata": {},
   "outputs": [],
   "source": [
    "with open('s.csv','r') as f:\n",
    "    csv_reader = csv.reader(f)\n",
    "    s = csv.DictReader(f)\n",
    "    for line in s:\n",
    "        if(line['status'].casefold() == 'paid'):\n",
    "                genqr(line['rollno'])\n",
    "                send_email(line['email'],line['rollno'])"
   ]
  },
  {
   "cell_type": "code",
   "execution_count": null,
   "id": "da598908",
   "metadata": {},
   "outputs": [],
   "source": [
    "# setting os env to hide personal and sensitive information from everyone\n",
    "# import os\n",
    "\n",
    "\n",
    "\n",
    "# comapct automated email sending code\n",
    "import smtplib\n",
    "from email.message import EmailMessage\n",
    "import imghdr\n",
    "\n",
    "def send_email(toemail,rollno):\n",
    "    EMAIL_ADD = \"prathamjindal83@gmail.com\"#os.environ.get(\"EMAIL_ADD\")\n",
    "    EMAIL_PASSWORD = \"qbnjzuumtpeaoysj\"#os.environ.get(\"EMAIL_PASS\")\n",
    "\n",
    "    msg = EmailMessage()\n",
    "    msg['Subject'] = \"save the qr code\"\n",
    "    msg['From'] = EMAIL_ADD\n",
    "    msg['To'] = toemail\n",
    "    msg.set_content('Image attached >>> ')\n",
    "\n",
    "    with open(f'image{rollno}.png','rb') as f:\n",
    "        file_data = f.read()\n",
    "        file_type = imghdr.what(f.name)\n",
    "        file_name = f.name\n",
    "\n",
    "    msg.add_attachment(file_data,maintype='image',subtype=file_type,filename=file_name)\n",
    "    with smtplib.SMTP_SSL('smtp.gmail.com:465') as smtp:\n",
    "\n",
    "        smtp.login(EMAIL_ADD,EMAIL_PASSWORD)\n",
    "\n",
    "        smtp.send_message(msg)\n",
    "    # server.quit()"
   ]
  },
  {
   "cell_type": "code",
   "execution_count": null,
   "id": "55694530",
   "metadata": {},
   "outputs": [],
   "source": [
    "import smtplib\n",
    "import os "
   ]
  },
  {
   "cell_type": "code",
   "execution_count": null,
   "id": "9edde14f",
   "metadata": {},
   "outputs": [],
   "source": [
    "EMAIL_ADD = \"prathamjindal83@gmail.com\"\n",
    "EMAIL_PASSWORD = \"qbnjzuumtpeaoysj\"\n",
    "\n",
    "with smtplib.SMTP('smtp.gmail.com',587) as smtp:\n",
    "    smtp.ehlo()\n",
    "    smtp.starttls()\n",
    "    smtp.ehlo()\n",
    "    \n",
    "    smtp.login(EMAIL_ADD,EMAIL_PASSWORD)\n",
    "    \n",
    "    subject = \"grab dinner this weekend\"\n",
    "    body = \"how about dinner with me\"\n",
    "    \n",
    "    msg = f'subject : {subject}\\n\\n{body}'\n",
    "    \n",
    "    \n",
    "# server = smtplib.SMTP('localhost')\n",
    "# server.set_debuglevel(1)\n",
    "    smtp.sendmail(EMAIL_ADD,'prathamjindal83@gmail.com', msg)\n",
    "# server.quit()"
   ]
  },
  {
   "cell_type": "code",
   "execution_count": null,
   "id": "b0d61233",
   "metadata": {},
   "outputs": [],
   "source": [
    "file_type"
   ]
  },
  {
   "cell_type": "code",
   "execution_count": null,
   "id": "a558c928",
   "metadata": {},
   "outputs": [],
   "source": [
    "# to send email to multiple user create a list and pass the list in msg['To'] "
   ]
  },
  {
   "cell_type": "code",
   "execution_count": null,
   "id": "6bdd4cf4",
   "metadata": {},
   "outputs": [],
   "source": [
    "#qr scanner\n"
   ]
  },
  {
   "cell_type": "code",
   "execution_count": null,
   "id": "ae8b4a85",
   "metadata": {},
   "outputs": [],
   "source": [
    "import cv2  # read images/ camera /video\n",
    "from pyzbar.pyzbar import decode\n",
    "import time\n",
    "import numpy as np"
   ]
  },
  {
   "cell_type": "code",
   "execution_count": null,
   "id": "4b8ab4b1",
   "metadata": {},
   "outputs": [],
   "source": [
    "!pip install zbar-py"
   ]
  },
  {
   "cell_type": "code",
   "execution_count": null,
   "id": "016f1257",
   "metadata": {},
   "outputs": [],
   "source": [
    "pip install opencv-python"
   ]
  },
  {
   "cell_type": "code",
   "execution_count": null,
   "id": "81eb9de4",
   "metadata": {},
   "outputs": [],
   "source": [
    "pip install pyzbar"
   ]
  },
  {
   "cell_type": "code",
   "execution_count": null,
   "id": "c6716624",
   "metadata": {},
   "outputs": [],
   "source": [
    "def is_datapresent(data):\n",
    "    with open('s.csv','r') as f:\n",
    "        csv_reader = csv.reader(f)\n",
    "        s = csv.DictReader(f)\n",
    "        for line in s:\n",
    "            if(line['rollno'].casefold() == str(data)):\n",
    "                  return True\n",
    "                \n",
    "            else:\n",
    "                return False"
   ]
  },
  {
   "cell_type": "code",
   "execution_count": null,
   "id": "f1d25148",
   "metadata": {},
   "outputs": [],
   "source": [
    "already_passed = []\n",
    "cap = cv2.VideoCapture(0)\n",
    "cap.set(3,640) #3 - width\n",
    "cap.set(4,480) #4 - height\n",
    "camera = True\n",
    "while camera == True:\n",
    "    success, frame = cap.read()\n",
    "    for code in decode(frame):\n",
    "        my_data = code.data.decode('utf-8')\n",
    "        if(is_datapresent(my_data) and my_data not in already_passed):\n",
    "            already_passed.append(my_data)\n",
    "            print(\"Pass\")\n",
    "        else:\n",
    "            print(\"Access denied\")\n",
    "        pts = np.array([code.polygon],np.int32)\n",
    "        pts.reshape((-1,1,2))\n",
    "        cv2.polylines(frame,[pts],True,(255,0,255),5)\n",
    "        pts2 = code.rect\n",
    "        cv2.putText(frame,my_data,(pts2[0],pts2[1]),cv2.FONT_HERSHEY_SIMPLEX,\n",
    "                   0.9,(255,0,255),2)\n",
    "        \n",
    "    cv2.imshow('testinng code scan', frame)\n",
    "    cv2.waitKey(100)"
   ]
  },
  {
   "cell_type": "code",
   "execution_count": null,
   "id": "185086be",
   "metadata": {},
   "outputs": [],
   "source": [
    "import cv2\n",
    "\n",
    "\n",
    "import numpy as np\n",
    "\n",
    "img = cv2.imread(r'/Users/prathamjindal/PycharmProjects/pythonProject1/image1.png')\n",
    "detector = cv2.QRCodeDetector()\n",
    "val,b,c = detector.detectAndDecode(img)\n",
    "print(val)"
   ]
  },
  {
   "cell_type": "code",
   "execution_count": null,
   "id": "481b3b1c",
   "metadata": {},
   "outputs": [],
   "source": []
  }
 ],
 "metadata": {
  "kernelspec": {
   "display_name": "Python 3 (ipykernel)",
   "language": "python",
   "name": "python3"
  },
  "language_info": {
   "codemirror_mode": {
    "name": "ipython",
    "version": 3
   },
   "file_extension": ".py",
   "mimetype": "text/x-python",
   "name": "python",
   "nbconvert_exporter": "python",
   "pygments_lexer": "ipython3",
   "version": "3.10.4"
  }
 },
 "nbformat": 4,
 "nbformat_minor": 5
}
